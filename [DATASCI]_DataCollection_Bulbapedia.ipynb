{
  "nbformat": 4,
  "nbformat_minor": 0,
  "metadata": {
    "colab": {
      "name": "[DATASCI] DataCollection_Bulbapedia.ipynb",
      "provenance": []
    },
    "kernelspec": {
      "name": "python3",
      "display_name": "Python 3"
    },
    "language_info": {
      "name": "python"
    }
  },
  "cells": [
    {
      "cell_type": "code",
      "metadata": {
        "colab": {
          "base_uri": "https://localhost:8080/",
          "height": 17
        },
        "id": "-w1UMPAWoUl0",
        "outputId": "faa2e9b9-f361-4baf-88f4-6895be41886c"
      },
      "source": [
        "import requests\n",
        "from bs4 import BeautifulSoup\n",
        "from google.colab import files\n",
        "import json\n",
        "\n",
        "URL = \"https://bulbapedia.bulbagarden.net/wiki/List_of_Pok%C3%A9mon_by_National_Pok%C3%A9dex_number\"\n",
        "page = requests.get(URL)\n",
        "soup = BeautifulSoup(page.content, 'html.parser')\n",
        "\n",
        "poke_content = soup.find(id='mw-content-text')\n",
        "poke_tables = poke_content.find_all('table')\n",
        "\n",
        "j=0\n",
        "allgens_JSON = []\n",
        "\n",
        "info_start=3\n",
        "\n",
        "while(j<10):\n",
        "  j+=1\n",
        "  allgens_list = poke_tables[j]\n",
        "  for i in range(info_start, len(allgens_list.contents), 2):\n",
        "      poke_info=allgens_list.contents[i]\n",
        "      kdex=poke_info.contents[1].text.strip()\n",
        "      ndex=poke_info.contents[3].text.strip()\n",
        "      name=poke_info.contents[7].text.strip()\n",
        "      type1=poke_info.contents[9].text.strip()\n",
        "      if len(poke_info.contents) > 10:\n",
        "          type2=poke_info.contents[11].text.strip()\n",
        "          allgens_JSON.append({\n",
        "            \"kdex\": kdex,\n",
        "            \"ndex\": ndex,\n",
        "            \"name\": name,\n",
        "            \"type1\": type1,\n",
        "            \"type2\": type2\n",
        "          })\n",
        "      else:\n",
        "          allgens_JSON.append({\n",
        "            \"kdex\": kdex,\n",
        "            \"ndex\": ndex,\n",
        "            \"name\": name,\n",
        "            \"type1\": type1\n",
        "          })\n",
        "\n",
        "\n",
        "with open('allgens.json', 'w', encoding='utf-8') as f:\n",
        "  json.dump(allgens_JSON, f, ensure_ascii=False, indent=4)\n",
        "\n",
        "files.download('allgens.json')"
      ],
      "execution_count": 5,
      "outputs": [
        {
          "output_type": "display_data",
          "data": {
            "application/javascript": [
              "\n",
              "    async function download(id, filename, size) {\n",
              "      if (!google.colab.kernel.accessAllowed) {\n",
              "        return;\n",
              "      }\n",
              "      const div = document.createElement('div');\n",
              "      const label = document.createElement('label');\n",
              "      label.textContent = `Downloading \"${filename}\": `;\n",
              "      div.appendChild(label);\n",
              "      const progress = document.createElement('progress');\n",
              "      progress.max = size;\n",
              "      div.appendChild(progress);\n",
              "      document.body.appendChild(div);\n",
              "\n",
              "      const buffers = [];\n",
              "      let downloaded = 0;\n",
              "\n",
              "      const channel = await google.colab.kernel.comms.open(id);\n",
              "      // Send a message to notify the kernel that we're ready.\n",
              "      channel.send({})\n",
              "\n",
              "      for await (const message of channel.messages) {\n",
              "        // Send a message to notify the kernel that we're ready.\n",
              "        channel.send({})\n",
              "        if (message.buffers) {\n",
              "          for (const buffer of message.buffers) {\n",
              "            buffers.push(buffer);\n",
              "            downloaded += buffer.byteLength;\n",
              "            progress.value = downloaded;\n",
              "          }\n",
              "        }\n",
              "      }\n",
              "      const blob = new Blob(buffers, {type: 'application/binary'});\n",
              "      const a = document.createElement('a');\n",
              "      a.href = window.URL.createObjectURL(blob);\n",
              "      a.download = filename;\n",
              "      div.appendChild(a);\n",
              "      a.click();\n",
              "      div.remove();\n",
              "    }\n",
              "  "
            ],
            "text/plain": [
              "<IPython.core.display.Javascript object>"
            ]
          },
          "metadata": {
            "tags": []
          }
        },
        {
          "output_type": "display_data",
          "data": {
            "application/javascript": [
              "download(\"download_02f703f3-56cb-44f0-8371-608f916142af\", \"allgens.json\", 123477)"
            ],
            "text/plain": [
              "<IPython.core.display.Javascript object>"
            ]
          },
          "metadata": {
            "tags": []
          }
        }
      ]
    }
  ]
}